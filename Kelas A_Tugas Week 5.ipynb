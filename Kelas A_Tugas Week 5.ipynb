{
 "cells": [
  {
   "attachments": {},
   "cell_type": "markdown",
   "metadata": {},
   "source": [
    "1. Buatlah program untuk menampilkan total penjumlahan bilangan ganjil dan total penjumlahan bilangan genap dengan input dari user berupa range (batas atas dan batas bawah)!"
   ]
  },
  {
   "cell_type": "code",
   "execution_count": 44,
   "metadata": {},
   "outputs": [
    {
     "name": "stdout",
     "output_type": "stream",
     "text": [
      "Hasil penjumlahan bilangan genap dengan range { 1 , 9 } adalah 20\n",
      "Hasil penjumlahan bilangan ganjil dengan range { 1 , 9 } adalah 25\n"
     ]
    }
   ],
   "source": [
    "# Kerjakan nomor 1 di sini\n",
    "batas_awal = int(input(\"Masukkan batas awal :\"))\n",
    "batas_akhir = int(input(\"Masukkan batas akhir :\"))\n",
    "jumlahganjil = 0\n",
    "jumlahgenap = 0\n",
    "\n",
    "if batas_awal > batas_akhir :\n",
    "    batas_awal,batas_akhir = batas_akhir,batas_awal\n",
    "for angka in range (batas_awal, batas_akhir+1):\n",
    "    if angka % 2 == 1:\n",
    "        jumlahganjil += angka\n",
    "    else :\n",
    "        jumlahgenap += angka\n",
    "\n",
    "print(\"Hasil penjumlahan bilangan genap dengan range\", \"{\",batas_awal, \",\", batas_akhir,\"} adalah\", jumlahgenap)\n",
    "print(\"Hasil penjumlahan bilangan ganjil dengan range\", \"{\", batas_awal, \",\", batas_akhir, \"} adalah\",jumlahganjil)\n"
   ]
  },
  {
   "attachments": {},
   "cell_type": "markdown",
   "metadata": {},
   "source": [
    "2. Buatlah sebuah list yang berisi daftar makanan khas daerah (minimal 10 makanan termasuk makanan khas Solo). Kemudian buat program pencarian menggunakan pengulangan. Apabila nama makanan yang user inputkan sudah sesuai dengan isi list maka program akan berhenti dan menampilkan output \"(makanan yang diinput user) adalah makanan khas daerah\"."
   ]
  },
  {
   "cell_type": "code",
   "execution_count": 10,
   "metadata": {},
   "outputs": [
    {
     "name": "stdout",
     "output_type": "stream",
     "text": [
      "Berikut adalah list nama makanan khas daerah :\n",
      "=====================================\n",
      "Selat\n",
      "Soto lamongan\n",
      "Sate madura\n",
      "Ketoprak\n",
      "Timlo\n",
      "Gudeg\n",
      "Lumpia\n",
      "Siomay\n",
      "Rendang\n",
      "Mi Aceh\n",
      "Pempek\n",
      "Bika ambon\n",
      "Rawon\n",
      "======================================\n",
      "Rawon adalah makanan khas daerah\n"
     ]
    }
   ],
   "source": [
    "# Kerjakan nomor 2 di sini\n",
    "print(\"Berikut adalah list nama makanan khas daerah :\")\n",
    "print(\"=====================================\")\n",
    "list_makanandaerah = [\"Selat\",\"Soto lamongan\",\"Sate madura\", \"Ketoprak\", \"Timlo\", \"Gudeg\", \"Lumpia\", \"Siomay\", \"Rendang\", \"Mi Aceh\", \"Pempek\",\"Bika ambon\",\"Rawon\"]\n",
    "for i in list_makanandaerah :\n",
    "    print (i)\n",
    "\n",
    "print(\"======================================\")\n",
    "\n",
    "a = 0\n",
    "while a != 1 :\n",
    "    makanan = input(\"Masukkan nama makanan :\")\n",
    "    if makanan == makanan in list_makanandaerah :\n",
    "        print(makanan, \"adalah makanan khas daerah\")\n",
    "        break\n",
    "    else :\n",
    "        print(makanan, \"bukan makanan khas daerah\") \n",
    "        break   \n",
    "    "
   ]
  },
  {
   "attachments": {},
   "cell_type": "markdown",
   "metadata": {},
   "source": [
    "3. Buatlah program untuk menghitung rata-rata 7 bilangan dimana bilangan-bilangan tersebut didapat melalui input user!"
   ]
  },
  {
   "cell_type": "code",
   "execution_count": 52,
   "metadata": {},
   "outputs": [
    {
     "name": "stdout",
     "output_type": "stream",
     "text": [
      "Rata-rata dari bilangan [1, 2, 3, 4, 5, 6, 7] adalah 4.0\n"
     ]
    }
   ],
   "source": [
    "# Kerjakan nomor 3 di sini\n",
    "bilangan = []\n",
    "\n",
    "while len(bilangan) < 7 :\n",
    "    i = int(input(\"Masukkan bilangan :\"))\n",
    "    bilangan.append(i)\n",
    "\n",
    "rata_rata = sum(bilangan)/len(bilangan)\n",
    "\n",
    "print(\"Rata-rata dari bilangan\", bilangan, \"adalah\", rata_rata)"
   ]
  }
 ],
 "metadata": {
  "kernelspec": {
   "display_name": "Python 3",
   "language": "python",
   "name": "python3"
  },
  "language_info": {
   "codemirror_mode": {
    "name": "ipython",
    "version": 3
   },
   "file_extension": ".py",
   "mimetype": "text/x-python",
   "name": "python",
   "nbconvert_exporter": "python",
   "pygments_lexer": "ipython3",
   "version": "3.10.7"
  },
  "orig_nbformat": 4
 },
 "nbformat": 4,
 "nbformat_minor": 2
}
