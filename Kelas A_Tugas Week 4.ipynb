{
 "cells": [
  {
   "cell_type": "code",
   "execution_count": 1,
   "metadata": {},
   "outputs": [
    {
     "name": "stdout",
     "output_type": "stream",
     "text": [
      "Deanieta Adilest\n",
      "I0322034\n",
      "A\n"
     ]
    }
   ],
   "source": [
    "print(input(\"Nama: \"))\n",
    "print(input(\"NIM: \"))\n",
    "print(input(\"Kelas: \"))"
   ]
  },
  {
   "attachments": {},
   "cell_type": "markdown",
   "metadata": {},
   "source": [
    "## 1."
   ]
  },
  {
   "attachments": {},
   "cell_type": "markdown",
   "metadata": {},
   "source": [
    "Buatlah program persyaratan pembuatan SIM dengan input yaitu nama user, umur user, dan nilai tes user.<br>\n",
    "Dengan ketentuan mendapat SIM sebagai berikut:\n",
    "* Umur dari user harus lebih dari sama dengan 17 tahun\n",
    "* Nilai tes lebih dari sama dengan 70\n",
    "\n",
    "<br>Output yang dihasilkan dari program adalah:\n",
    "<br>\"Selamat Anda Berhak Mendapatkan SIM Anda\"\n",
    "<br>\"Maaf, Anda tidak berhak mendapatkan SIM anda\"\n",
    "> *note: Kerjakan soal ini dengan percabangan*"
   ]
  },
  {
   "cell_type": "code",
   "execution_count": 4,
   "metadata": {},
   "outputs": [
    {
     "name": "stdout",
     "output_type": "stream",
     "text": [
      "Maaf, anda tidak berhak mendapatkan SIM anda\n"
     ]
    }
   ],
   "source": [
    "# Kerjakan soal no 1 di sini\n",
    "nama = str(input(\"Masukkan nama Anda :\"))\n",
    "umur = int(input(\"Masukkan umur Anda :\"))\n",
    "nilai = int(input(\"Masukkan nilai tes Anda :\"))\n",
    "\n",
    "if umur >= 17:\n",
    "    if nilai >= 70:\n",
    "        print(\"Selamat anda berhak mendapatkan SIM anda\")\n",
    "    else :\n",
    "        print(\"Maaf, anda tidak berhak mendapatkan SIM anda\")\n",
    "else :\n",
    "    print(\"Maaf, anda tidak berhak mendapatkan SIM anda\")\n"
   ]
  },
  {
   "attachments": {},
   "cell_type": "markdown",
   "metadata": {},
   "source": [
    "## 2."
   ]
  },
  {
   "attachments": {},
   "cell_type": "markdown",
   "metadata": {},
   "source": [
    "Buatlah program untuk mencari bilangan terbesar yang diinput dari user.<br>\n",
    "<br>Dengan ketentuan sebagai berikut:\n",
    "* Program nenerima 3 input bilangan dari user\n",
    "* Program akan menentukan mana bilangan terbesar\n",
    "* Output yang akan dihasilkan misalnya adalah \"Dari bil_1, bil_2, dan bil_3, bilangan terbesarnya adalah bilangan bil_2\"\n",
    "> *note: Kerjakan soal ini dengan percabangan*"
   ]
  },
  {
   "cell_type": "code",
   "execution_count": 12,
   "metadata": {},
   "outputs": [
    {
     "name": "stdout",
     "output_type": "stream",
     "text": [
      "Dari bilangan 4, 5, 6, bilangan terbesarnya adalah 6\n"
     ]
    }
   ],
   "source": [
    "# Kerjakan soal nomor 2 disini\n",
    "a = int(input(\"Masukkan bilangan pertama :\"))\n",
    "b = int(input(\"Masukkan bilangan kedua :\"))\n",
    "c = int(input(\"Masukkan bilangan ketiga :\"))\n",
    "\n",
    "if a > b and a > c:\n",
    "    print(f\"Dari {a}, {b}, {c}, bilangan terbesarnya adalah {a}\")\n",
    "elif b > a and b > c:\n",
    "    print (f\"Dari bilangan {a}, {b}, {c}, bilangan terbesarnya adalah {b}\")\n",
    "else :\n",
    "    print (f\"Dari bilangan {a}, {b}, {c}, bilangan terbesarnya adalah {c}\")\n",
    "     "
   ]
  }
 ],
 "metadata": {
  "kernelspec": {
   "display_name": "Python 3",
   "language": "python",
   "name": "python3"
  },
  "language_info": {
   "codemirror_mode": {
    "name": "ipython",
    "version": 3
   },
   "file_extension": ".py",
   "mimetype": "text/x-python",
   "name": "python",
   "nbconvert_exporter": "python",
   "pygments_lexer": "ipython3",
   "version": "3.10.7"
  },
  "orig_nbformat": 4
 },
 "nbformat": 4,
 "nbformat_minor": 2
}
