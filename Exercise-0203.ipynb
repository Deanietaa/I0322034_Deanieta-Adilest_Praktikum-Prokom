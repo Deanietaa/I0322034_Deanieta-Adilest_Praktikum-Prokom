{
 "cells": [
  {
   "cell_type": "code",
   "execution_count": 1,
   "metadata": {},
   "outputs": [
    {
     "name": "stdout",
     "output_type": "stream",
     "text": [
      "Deanieta Adilest\n",
      "I0322034\n",
      "A\n"
     ]
    }
   ],
   "source": [
    "print(input(\"Nama: \"))\n",
    "print(input(\"NIM: \"))\n",
    "print(input(\"Kelas: \"))"
   ]
  },
  {
   "attachments": {},
   "cell_type": "markdown",
   "metadata": {},
   "source": [
    "## 1."
   ]
  },
  {
   "attachments": {},
   "cell_type": "markdown",
   "metadata": {},
   "source": [
    "buatlah program sederhana untuk menghitung umur pengguna dengan ketentuan sebagai berikut :\n",
    "* Program meminta pengguna memasukan tanggal, bulan, dan tahun lahir\n",
    "* Program menghitung umur pengguna hingga tanggal 1 januari 2023\n",
    "* Program menampilkan umur dari pengguna"
   ]
  },
  {
   "cell_type": "code",
   "execution_count": 8,
   "metadata": {},
   "outputs": [
    {
     "name": "stdout",
     "output_type": "stream",
     "text": [
      "PROGRAM MENGHITUNG UMUR\n",
      "halo deaa\n",
      "umurmu saat ini adalah : 18 tahun 8 bulan 20 hari\n"
     ]
    }
   ],
   "source": [
    "print(\"PROGRAM MENGHITUNG UMUR\")\n",
    "nama = str(input(\"Masukkan nama:\"))\n",
    "print(\"halo\", nama)\n",
    "tanggal = int(input(\"Masukkan tanggal lahir :\"))\n",
    "bulan = int(input(\"Masukkan bulan lahir :\"))\n",
    "tahun = int(input(\"Masukkan tahun lahir :\"))\n",
    "lahir = tanggal + (bulan * 30) + (tahun * 365)\n",
    "\n",
    "tanggal_skrg = 1\n",
    "bulan_skrg = 1\n",
    "tahun_skrg = 2023\n",
    "saat_ini = tanggal_skrg + (bulan_skrg * 30) + (tahun_skrg * 365)\n",
    "\n",
    "hasil_tahun = (saat_ini - lahir) // 365\n",
    "hasil_bulan = ((saat_ini - lahir) % 365) // 30\n",
    "hasil_hari = ((saat_ini - lahir) % 365) % 30\n",
    "\n",
    "print(\"umurmu saat ini adalah :\", hasil_tahun, \"tahun\", hasil_bulan, \"bulan\", hasil_hari, \"hari\")"
   ]
  },
  {
   "attachments": {},
   "cell_type": "markdown",
   "metadata": {},
   "source": [
    "## 2."
   ]
  },
  {
   "attachments": {},
   "cell_type": "markdown",
   "metadata": {},
   "source": [
    "Pada 2015, wabah flu burung menyerang Indonesia dan beberapa peternak ayam mengalami kerugian karena banyaknya ayam yang mati. Setiap bulan, jumlah ayamnya berkurang menjadi setengah. Setelah dua bulan, jumlah ayam yang tersisa adalah 200 ekor. Hitunglah jumlah ayam sebelumnya yang dimiliki peternak tersebut! (gunakan rumus deret geometri)\n",
    "\n",
    "> *note: SOAL DIATAS DIKERJAKAN SESUAI DENGAN RUMUS BAKU*"
   ]
  },
  {
   "cell_type": "code",
   "execution_count": 10,
   "metadata": {},
   "outputs": [
    {
     "name": "stdout",
     "output_type": "stream",
     "text": [
      "Jumlah ayam mula-mula adalah : 800.0\n"
     ]
    }
   ],
   "source": [
    "# Un = jumlah suku ke n\n",
    "# a = suku pertama\n",
    "# r = rasio\n",
    "\n",
    "# Un = a * r ** (n-1)\n",
    "Un = 200\n",
    "r = 1/2\n",
    "n = 3\n",
    "a = Un/r**(n-1)\n",
    "print (\"Jumlah ayam mula-mula adalah :\", a)\n"
   ]
  },
  {
   "attachments": {},
   "cell_type": "markdown",
   "metadata": {},
   "source": [
    "## 3. "
   ]
  },
  {
   "attachments": {},
   "cell_type": "markdown",
   "metadata": {},
   "source": [
    "* **A** Hitunglah luas Prisma Segitiga dengan ketentuan sebagai berikut:\n",
    "    * Alas dan tutup prisma merupakan segitiga\n",
    "    * Terdapat 3 persegi panjang yang menyinggung alas dan tutup prisma\n",
    "    * Sisi persegi panjang yang menyinggung segitiga adalah sisi lebar\n",
    "```python\n",
    "    dictionary_figure = {\"Persegi\":{\"Sisi\":22},\n",
    "                        \"Persegi Panjang\":{\"Panjang\":10,\"Lebar\":5},\n",
    "                        \"Segitiga Sama Sisi\":{\"Sisi\":6,\"Tinggi\":3**(1/2) * 3},\n",
    "                        \"Lingkaran\":{\"Diameter\":7}}\n",
    "```\n",
    "* **B** Hitunglah luas Tabung dengan ketentuan sebagai berikut:\n",
    "    * Alas dan tutup tabung merupakan lingkaran\n",
    "    * Terdapat 1 persegi yang menyinggung alas dan tutup tabung\n",
    "    * Persegi yang ada mengelilingi lingkaran hingga sisi dari persegi saling bertemu\n",
    "\n",
    "> *note: Pada soal ini kalian hanya boleh menggunakan key-value pair dan index pada list. Tidak diperbolehkan menulis secara langsung dimensi dari figure*"
   ]
  },
  {
   "cell_type": "code",
   "execution_count": 1,
   "metadata": {},
   "outputs": [
    {
     "name": "stdout",
     "output_type": "stream",
     "text": [
      "luas permukaan prisma segitiga adalah : 181.1769145362398\n",
      "luas tabung adalah 560.9300000000001\n"
     ]
    }
   ],
   "source": [
    "dictionary_figure = {\"Persegi\":{\"Sisi\":22},\n",
    "  \"Persegi Panjang\":{\"Panjang\":10,\"Lebar\":5},\n",
    "  \"Segitiga Sama Sisi\":{\"Sisi\":6,\"Tinggi\":3**(1/2) * 3},\n",
    "  \"Lingkaran\":{\"Diameter\":7}}\n",
    "\n",
    "# A luas permukaan prisma segitiga\n",
    "panjang = dictionary_figure[\"Persegi Panjang\"][\"Panjang\"]\n",
    "lebar = dictionary_figure[\"Persegi Panjang\"][\"Lebar\"]\n",
    "sisi_segitiga = dictionary_figure[\"Segitiga Sama Sisi\"][\"Sisi\"] \n",
    "tinggi_segitiga = dictionary_figure[\"Segitiga Sama Sisi\"][\"Tinggi\"]\n",
    "luas_persegipanjang = panjang*lebar\n",
    "luas_segitiga = 1/2*sisi_segitiga* tinggi_segitiga\n",
    "luas_prisma = 2*luas_segitiga + 3*luas_persegipanjang\n",
    "print(\"luas permukaan prisma segitiga adalah :\", luas_prisma)\n",
    "\n",
    "# B luas tabung\n",
    "sisi = dictionary_figure[\"Persegi\"][\"Sisi\"]\n",
    "diameter = dictionary_figure[\"Lingkaran\"][\"Diameter\"]\n",
    "jari = diameter / 2\n",
    "luas_persegi = sisi**2\n",
    "luas_lingkaran = 3.14* (jari**2)\n",
    "luas_tabung = 2*luas_lingkaran + luas_persegi\n",
    "print(\"luas tabung adalah\",luas_tabung)"
   ]
  }
 ],
 "metadata": {
  "kernelspec": {
   "display_name": "Python 3",
   "language": "python",
   "name": "python3"
  },
  "language_info": {
   "codemirror_mode": {
    "name": "ipython",
    "version": 3
   },
   "file_extension": ".py",
   "mimetype": "text/x-python",
   "name": "python",
   "nbconvert_exporter": "python",
   "pygments_lexer": "ipython3",
   "version": "3.10.7"
  },
  "orig_nbformat": 4,
  "vscode": {
   "interpreter": {
    "hash": "5addf786bcd861d1ce5006f23111f8cbb206731e5b61b0a5632ba9e0252558a8"
   }
  }
 },
 "nbformat": 4,
 "nbformat_minor": 2
}
