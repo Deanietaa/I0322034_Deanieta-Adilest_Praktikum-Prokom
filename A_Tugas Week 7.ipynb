{
 "cells": [
  {
   "cell_type": "code",
   "execution_count": 35,
   "metadata": {},
   "outputs": [
    {
     "name": "stdout",
     "output_type": "stream",
     "text": [
      "Matriks Anda :\n",
      "1 2 3 \n",
      "1 2 3 \n",
      "1 2 3 \n"
     ]
    },
    {
     "data": {
      "text/plain": [
       "[[1, 2, 3], [1, 2, 3], [1, 2, 3]]"
      ]
     },
     "execution_count": 35,
     "metadata": {},
     "output_type": "execute_result"
    }
   ],
   "source": [
    "#Buatlah sebuah fungsi untuk membuat matrix berdasarkan input dari user\n",
    "\n",
    "def create_matrix(baris,kolom):\n",
    "    matrix = []\n",
    "\n",
    "    #Tulis kode kamu disini\n",
    "    for i in range (baris):\n",
    "        matrix.append([])\n",
    "\n",
    "        for j in range (kolom):\n",
    "            elemen = int(input(\"Masukkan elemen matriks[{i}][{j}]: \"))\n",
    "            matrix[i].append(elemen)\n",
    "    print(\"Matriks Anda :\")\n",
    "    for i in range (baris):\n",
    "        for j in range(kolom):\n",
    "            print(matrix[i][j], end=\" \")\n",
    "        print()\n",
    "\n",
    "    return matrix\n",
    "\n",
    "\n",
    "baris = int(input('Masukkan Jumlah Baris:\\t'))\n",
    "kolom = int(input('Masukkan Jumlah Kolom:\\t'))\n",
    "\n",
    "create_matrix(baris,kolom)"
   ]
  },
  {
   "cell_type": "code",
   "execution_count": 30,
   "metadata": {},
   "outputs": [
    {
     "name": "stdout",
     "output_type": "stream",
     "text": [
      "Matriks A:\n",
      "1 2 \n",
      "1 2 \n",
      "Matriks B:\n",
      "3 4 \n",
      "3 4 \n",
      "Hasil Penjumlahan :\n",
      "4 6 \n",
      "4 6 \n"
     ]
    },
    {
     "data": {
      "text/plain": [
       "[[4, 6], [4, 6]]"
      ]
     },
     "execution_count": 30,
     "metadata": {},
     "output_type": "execute_result"
    }
   ],
   "source": [
    "#Buatlah sebuah fungsi untuk menambah dua matrix berdasarkan input user\n",
    "\n",
    "def tambah_matrix(matrix1,matrix2):\n",
    "    tambah = []\n",
    "\n",
    "    #Tulis kode kamu disini\n",
    "    for i in range(len(matrix1)):\n",
    "        tambah.append([])\n",
    "        for j in range(len(matrix1[i])):\n",
    "            hasil = matrix1[i][j] + matrix2 [i][j]\n",
    "            tambah[i].append(hasil)\n",
    "    print(\"Hasil Penjumlahan Matriks :\")\n",
    "    for i in range(len(tambah)):\n",
    "        for j in range(len(tambah[i])):\n",
    "            print(tambah[i][j], end = \" \")\n",
    "        print()\n",
    "\n",
    "    return tambah\n",
    "\n",
    "baris = int(input('Masukkan Jumlah Baris:\\t'))\n",
    "kolom = int(input('Masukkan Jumlah Kolom:\\t'))\n",
    "\n",
    "\n",
    "matrixA = []\n",
    "for i in range (baris):\n",
    "        matrixA.append([])\n",
    "\n",
    "        for j in range (kolom):\n",
    "            elemen = int(input(\"Masukkan elemen matriksA[{i}][{j}]: \"))\n",
    "            matrixA[i].append(elemen)\n",
    "print(\"Matriks A:\")\n",
    "for i in range (baris):\n",
    "        for j in range(kolom):\n",
    "            print(matrixA[i][j], end=\" \")\n",
    "        print()\n",
    "\n",
    "\n",
    "matrixB = []\n",
    "for i in range (baris):\n",
    "        matrixB.append([])\n",
    "        for j in range (kolom):\n",
    "            elemen = int(input(\"Masukkan elemen matriksB[{i}][{j}]: \"))\n",
    "            matrixB[i].append(elemen)\n",
    "\n",
    "print(\"Matriks B:\")   \n",
    "for i in range (baris):\n",
    "        for j in range(kolom):\n",
    "            print(matrixB[i][j], end=\" \")\n",
    "        print()\n",
    "\n",
    "tambah_matrix(matrixA, matrixB)"
   ]
  },
  {
   "cell_type": "code",
   "execution_count": 43,
   "metadata": {},
   "outputs": [
    {
     "name": "stdout",
     "output_type": "stream",
     "text": [
      "Matriks 1:\n",
      "1 1 \n",
      "1 1 \n",
      "Matriks 2:\n",
      "2 2 \n",
      "2 2 \n",
      "Hasil Perkalian Matriks :\n",
      "4 4 \n",
      "4 4 \n"
     ]
    },
    {
     "data": {
      "text/plain": [
       "[[4, 4], [4, 4]]"
      ]
     },
     "execution_count": 43,
     "metadata": {},
     "output_type": "execute_result"
    }
   ],
   "source": [
    "#Buatlah fungsi untuk mengakalikan dua buah matrix berdasarkan input user\n",
    "\n",
    "def multiply_matrix(matrix1, matrix2):\n",
    "    result=[]\n",
    "\n",
    "    #Tulis kode kamu disini\n",
    "    for i in range (0,len(matrix1)):\n",
    "        row = []\n",
    "        for j in range (0, len(matrix1[0])):\n",
    "            total = 0\n",
    "            for k in range (0, len(matrix1)):\n",
    "                total = total + (matrix1[i][k] * matrix2 [k][j])\n",
    "            row.append(total)\n",
    "        result.append(row)\n",
    "    print(\"Hasil Perkalian Matriks :\")\n",
    "    for i in range(len(result)):\n",
    "        for j in range(len(result[0])):\n",
    "            print(result[i][j], end = \" \")\n",
    "        print()\n",
    "    \n",
    "    return result\n",
    "\n",
    "baris = int(input('Masukkan Jumlah Baris:\\t'))\n",
    "kolom = int(input('Masukkan Jumlah Kolom:\\t'))\n",
    "\n",
    "matrix1 = []\n",
    "for i in range (baris):\n",
    "        matrix1.append([])\n",
    "\n",
    "        for j in range (kolom):\n",
    "            elemen = int(input(\"Masukkan elemen matriks 1[{i}][{j}]: \"))\n",
    "            matrix1[i].append(elemen)\n",
    "print(\"Matriks 1:\")\n",
    "for i in range (baris):\n",
    "        for j in range(kolom):\n",
    "            print(matrix1[i][j], end=\" \")\n",
    "        print()\n",
    "\n",
    "matrix2 = []\n",
    "for i in range (baris):\n",
    "        matrix2.append([])\n",
    "\n",
    "        for j in range (kolom):\n",
    "            elemen = int(input(\"Masukkan elemen matriks 2[{i}][{j}]: \"))\n",
    "            matrix2[i].append(elemen)\n",
    "print(\"Matriks 2:\")\n",
    "for i in range (baris):\n",
    "        for j in range(kolom):\n",
    "            print(matrix2[i][j], end=\" \")\n",
    "        print()\n",
    "\n",
    "multiply_matrix(matrix1, matrix2)"
   ]
  }
 ],
 "metadata": {
  "kernelspec": {
   "display_name": "Python 3",
   "language": "python",
   "name": "python3"
  },
  "language_info": {
   "codemirror_mode": {
    "name": "ipython",
    "version": 3
   },
   "file_extension": ".py",
   "mimetype": "text/x-python",
   "name": "python",
   "nbconvert_exporter": "python",
   "pygments_lexer": "ipython3",
   "version": "3.10.7"
  },
  "orig_nbformat": 4
 },
 "nbformat": 4,
 "nbformat_minor": 2
}
